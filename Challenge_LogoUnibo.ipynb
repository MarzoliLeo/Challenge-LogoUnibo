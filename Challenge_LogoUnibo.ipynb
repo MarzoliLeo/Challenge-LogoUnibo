{
  "nbformat": 4,
  "nbformat_minor": 0,
  "metadata": {
    "colab": {
      "provenance": [],
      "authorship_tag": "ABX9TyMFV+VThyxh8VikCjZBpTR3",
      "include_colab_link": true
    },
    "kernelspec": {
      "name": "python3",
      "display_name": "Python 3"
    },
    "language_info": {
      "name": "python"
    }
  },
  "cells": [
    {
      "cell_type": "markdown",
      "metadata": {
        "id": "view-in-github",
        "colab_type": "text"
      },
      "source": [
        "<a href=\"https://colab.research.google.com/github/MarzoliLeo/Challenge-LogoUnibo/blob/main/Challenge_LogoUnibo.ipynb\" target=\"_parent\"><img src=\"https://colab.research.google.com/assets/colab-badge.svg\" alt=\"Open In Colab\"/></a>"
      ]
    },
    {
      "cell_type": "markdown",
      "source": [
        "# Operazioni preliminari.\n",
        "Unzippare i dataset zippati e importati nell'ambiente colab dal proprio file system."
      ],
      "metadata": {
        "id": "FZ0vnWdtmEvu"
      }
    },
    {
      "cell_type": "code",
      "source": [
        "import zipfile\n",
        "import os\n",
        "\n",
        "def extract_and_rename(zip_filename, target_directory):\n",
        "    with zipfile.ZipFile(zip_filename, 'r') as zip_ref:\n",
        "        zip_ref.extractall(target_directory)\n",
        "\n",
        "# Estrarre il primo file ZIP in una directory chiamata directory1\n",
        "extract_and_rename('/content/task_test-set-2023_12_04_21_10_14-yolo 1.1.zip', '/content/test-set-YOLO')\n",
        "\n",
        "# Estrarre il secondo file ZIP in una directory chiamata directory2\n",
        "extract_and_rename('/content/task_training-2023_12_04_21_10_08-yolo 1.1.zip', '/content/train-set-YOLO')\n",
        "\n"
      ],
      "metadata": {
        "id": "F9qYGy7ZmUe4"
      },
      "execution_count": 2,
      "outputs": []
    },
    {
      "cell_type": "markdown",
      "source": [
        "# Installare KerasCV\n",
        "La libreria KerasCV mette a disposizione componenti specifiche per svolgere task di Computer Vision come modelli pre-addestrati, metriche e layer.\n",
        "\n",
        "La cella seguente permette di installare l'ultima versione di KerasCV."
      ],
      "metadata": {
        "id": "Wl5MncnrkNgJ"
      }
    },
    {
      "cell_type": "code",
      "source": [
        "!pip install --upgrade -q git+https://github.com/keras-team/keras-cv"
      ],
      "metadata": {
        "id": "LW3aNsnekSfp",
        "colab": {
          "base_uri": "https://localhost:8080/"
        },
        "outputId": "18662116-57c1-489e-9d0f-77ab510cc33a"
      },
      "execution_count": 3,
      "outputs": [
        {
          "output_type": "stream",
          "name": "stdout",
          "text": [
            "  Installing build dependencies ... \u001b[?25l\u001b[?25hdone\n",
            "  Getting requirements to build wheel ... \u001b[?25l\u001b[?25hdone\n",
            "  Preparing metadata (pyproject.toml) ... \u001b[?25l\u001b[?25hdone\n",
            "\u001b[2K     \u001b[90m━━━━━━━━━━━━━━━━━━━━━━━━━━━━━━━━━━━━━━━━\u001b[0m \u001b[32m950.8/950.8 kB\u001b[0m \u001b[31m13.0 MB/s\u001b[0m eta \u001b[36m0:00:00\u001b[0m\n",
            "\u001b[?25h  Building wheel for keras-cv (pyproject.toml) ... \u001b[?25l\u001b[?25hdone\n"
          ]
        }
      ]
    },
    {
      "cell_type": "markdown",
      "source": [
        "# Import delle librerie\n"
      ],
      "metadata": {
        "id": "6mUoPAWjkcjZ"
      }
    },
    {
      "cell_type": "code",
      "source": [
        "import os\n",
        "import tensorflow as tf\n",
        "import numpy as np\n",
        "import keras_cv\n",
        "import cv2\n",
        "import random\n",
        "import math\n",
        "from tensorflow import keras\n",
        "from matplotlib import pyplot as plt"
      ],
      "metadata": {
        "id": "gAB46gCfkgFm",
        "colab": {
          "base_uri": "https://localhost:8080/"
        },
        "outputId": "52dd7e71-3474-4cd5-e230-f8e1d0932af7"
      },
      "execution_count": 5,
      "outputs": [
        {
          "output_type": "stream",
          "name": "stdout",
          "text": [
            "Using TensorFlow backend\n"
          ]
        }
      ]
    },
    {
      "cell_type": "markdown",
      "source": [
        "# **Functioni di utilità per l'addestramento**\n",
        "Tramite la cella sottostante è possibile definire alcune funzioni di utilità usate durante l'esercitazione:\n",
        "- **plot_images_with_xywh_bounding_boxes** visualizza un *mini-batch* di immagini con le corrispondenti *bounding box*;\n",
        "- **plot_images_with_y_preds** visulizza un *mini-batch* di immagini con le corrispondenti *prediction*;\n",
        "- **parse_yolov8_annotation** legge da un file di testo le annotazioni di un'immagine nel formato YOLOv8;\n",
        "- **load_dataset_info** carica in memoria i percorsi assoluti di tutte le immagini e le rispettive annotazioni di un dataset;\n",
        "- **from_rel_xywh_to_xywh** converte le annotazioni dal formato relativo al formato assoluto date in input le dimensioni delle immagini;\n",
        "- **load_dataset_element** carica in memoria un'immagine dato in input il percorso in cui è memorizzara e la associa alle corrispondenti *bounding box*;\n",
        "- **prepare_dataset** prepara il dataset dato in input caricando le immangini e applicando alcune operazioni di preprocessing tra cui il ridimensionamento delle immagini alle dimensioni di input del modello;\n",
        "- **plot_history** visualizza il grafico delle loss sui dataset di training e validation;\n",
        "- **compute_mean_average_precision** calcola la *mean Average Precision* (mAP) date in input le *bounding box* vere e quelle predette dalla rete."
      ],
      "metadata": {
        "id": "0dtkUiQYwkss"
      }
    },
    {
      "cell_type": "code",
      "source": [
        "def plot_images_with_xywh_bounding_boxes(images, boxes, class_ids, class_labels, image_per_row=4, show_labels=True, confidences=None):\n",
        "    class_colors = plt.cm.hsv(np.linspace(0, 1, len(class_labels)+1)).tolist()\n",
        "\n",
        "    image_count = len(images)\n",
        "    row_count = math.ceil(image_count/image_per_row)\n",
        "    col_count = image_per_row\n",
        "\n",
        "    _, axs = plt.subplots(nrows=row_count, ncols=col_count, figsize=(18, 4*row_count), squeeze=False)\n",
        "    for r in range(row_count):\n",
        "        for c in range(col_count):\n",
        "            axs[r, c].axis('off')\n",
        "\n",
        "    for i in range(image_count):\n",
        "        r = i // image_per_row\n",
        "        c = i % image_per_row\n",
        "\n",
        "        image_path = train_image_path_list[i]\n",
        "        axs[r, c].imshow(plt.imread(image_path))\n",
        "        for box_idx in range(len(boxes[i])):\n",
        "            box = boxes[i][box_idx]\n",
        "            class_idx = class_ids[i][box_idx]\n",
        "            color = class_colors[class_idx]\n",
        "            xmin = box[0]\n",
        "            ymin = box[1]\n",
        "            w = box[2]\n",
        "            h = box[3]\n",
        "            axs[r, c].add_patch(plt.Rectangle((xmin, ymin), w, h, color=color, fill=False, linewidth=2))\n",
        "            if show_labels:\n",
        "                label = '{}'.format(class_labels[class_idx])\n",
        "                if confidences is not None:\n",
        "                    label += ' {:.2f}'.format(confidences[i][box_idx])\n",
        "                axs[r, c].text(xmin, ymin, label, size='large', color='white', bbox={'facecolor': color, 'alpha': 1.0})\n",
        "\n",
        "\n",
        "\n",
        "def plot_images_with_y_preds(images,y_preds,class_labels,image_per_row=4,show_labels=True):\n",
        "  image_count=images.shape[0]\n",
        "  plot_images_with_xywh_bounding_boxes(images,\n",
        "                                      [y_preds['boxes'][i,:y_preds['num_detections'][i]] for i in range(image_count)],\n",
        "                                      [y_preds['classes'][i,:y_preds['num_detections'][i]] for i in range(image_count)],\n",
        "                                      class_labels,\n",
        "                                      image_per_row=image_per_row,\n",
        "                                      show_labels=show_labels,\n",
        "                                      confidences=[y_preds['confidence'][i,:y_preds['num_detections'][i]] for i in range(image_count)])\n",
        "\n",
        "def parse_yolov8_annotation(txt_file):\n",
        "    yolov8_boxes = []\n",
        "    class_ids = []\n",
        "    with open(txt_file) as file:\n",
        "      for line in file:\n",
        "        splitted_line = line.split()\n",
        "        class_ids.append(int(splitted_line[0]))\n",
        "        rcx = float(splitted_line[1])\n",
        "        rcy = float(splitted_line[2])\n",
        "        rw = float(splitted_line[3])\n",
        "        rh = float(splitted_line[4])\n",
        "        rxmin=rcx-rw/2\n",
        "        rymin=rcy-rh/2\n",
        "        yolov8_boxes.append([rxmin, rymin, rw, rh]) #rel_xywh\n",
        "\n",
        "    return yolov8_boxes, class_ids\n",
        "\n",
        "def load_dataset_info(txt_file_list,image_path):\n",
        "  image_path_list = []\n",
        "  image_yolov8_box_list = []\n",
        "  image_class_id_list = []\n",
        "  for txt_file in txt_file_list:\n",
        "      yolov8_boxes, class_ids = parse_yolov8_annotation(txt_file)\n",
        "      image_path_list.append(image_path+os.path.basename(os.path.splitext(txt_file)[0])+'.jpg')\n",
        "      image_yolov8_box_list.append(yolov8_boxes)\n",
        "      image_class_id_list.append(class_ids)\n",
        "\n",
        "  return image_path_list,image_yolov8_box_list,image_class_id_list\n",
        "\n",
        "def from_rel_xywh_to_xywh(dataset_rel_xywh_bboxes,image_shape):\n",
        "  image_height=image_shape[0]\n",
        "  image_width=image_shape[1]\n",
        "\n",
        "  dataset_xywh_bboxes=[]\n",
        "  for image_bboxes in dataset_rel_xywh_bboxes:\n",
        "    image_xywh_bboxes=[]\n",
        "    for image_bbox in image_bboxes:\n",
        "      xmin=image_bbox[0]*image_width\n",
        "      ymin=image_bbox[1]*image_height\n",
        "      w=image_bbox[2]*image_width\n",
        "      h=image_bbox[3]*image_height\n",
        "      image_xywh_bboxes.append([xmin, ymin, w, h])\n",
        "    dataset_xywh_bboxes.append(image_xywh_bboxes)\n",
        "\n",
        "  return dataset_xywh_bboxes\n",
        "\n",
        "def load_dataset_element(image_path, bboxes,classes):\n",
        "    image = tf.io.read_file(image_path)\n",
        "    image = tf.image.decode_jpeg(image, channels=3)\n",
        "    bounding_boxes = {\n",
        "        'classes': tf.cast(classes, dtype=tf.float32),\n",
        "        'boxes': bboxes,\n",
        "    }\n",
        "    return {'images': tf.cast(image, tf.float32), 'bounding_boxes': bounding_boxes}\n",
        "\n",
        "def prepare_dataset(dataset,batch_size,model_input_size):\n",
        "  resizer = keras.Sequential(layers=[keras_cv.layers.Resizing(model_input_size,model_input_size,pad_to_aspect_ratio=True,bounding_box_format='xywh')])\n",
        "\n",
        "  ds = dataset.map(load_dataset_element, num_parallel_calls=tf.data.AUTOTUNE)\n",
        "  ds = ds.shuffle(dataset.cardinality())\n",
        "  ds = ds.ragged_batch(batch_size, drop_remainder=True)\n",
        "  ds = ds.map(resizer, num_parallel_calls=tf.data.AUTOTUNE)\n",
        "  ds = ds.map(lambda inputs: (inputs['images'], inputs['bounding_boxes']), num_parallel_calls=tf.data.AUTOTUNE)\n",
        "  ds = ds.prefetch(tf.data.AUTOTUNE)\n",
        "  return ds\n",
        "\n",
        "def plot_history(history):\n",
        "  fig, ax1 = plt.subplots(figsize=(10, 8))\n",
        "\n",
        "  epoch_count=len(history.history['loss'])\n",
        "\n",
        "  line1,=ax1.plot(range(1,epoch_count+1),history.history['loss'],label='train_loss',color='orange')\n",
        "  ax1.plot(range(1,epoch_count+1),history.history['val_loss'],label='val_loss',color = line1.get_color(), linestyle = '--')\n",
        "  ax1.set_xlim([1,epoch_count])\n",
        "  ax1.set_ylim([0, max(max(history.history['loss']),max(history.history['val_loss']))])\n",
        "  ax1.set_ylabel('loss',color = line1.get_color())\n",
        "  ax1.tick_params(axis='y', labelcolor=line1.get_color())\n",
        "  ax1.set_xlabel('Epochs')\n",
        "  _=ax1.legend(loc='lower left')\n",
        "\n",
        "def compute_mean_average_precision(y_true, y_pred):\n",
        "  coco_metrics=keras_cv.metrics.BoxCOCOMetrics(bounding_box_format='xywh',evaluate_freq=1)\n",
        "  coco_metrics.update_state(y_true, y_pred)\n",
        "  return coco_metrics.result(force=True)['MaP'].numpy()"
      ],
      "metadata": {
        "id": "xxKOc0w0wpAp"
      },
      "execution_count": 22,
      "outputs": []
    },
    {
      "cell_type": "markdown",
      "source": [
        "# YOLOv8\n",
        "YOLOv8 è l'ultimo modello basato sull'architettura YOLO (You Only Look Once) in grado di individuare in tempo reale oggetti multipli all'interno di un'immagine con un elevato livello di accuratezza. Quest'ultima versione è in grado di supportare diversi tipi di task tra cui: detection, segmentazione e classificazione."
      ],
      "metadata": {
        "id": "KAhWLxi5w9C9"
      }
    },
    {
      "cell_type": "markdown",
      "source": [
        "# Preparazione del dataset.\n",
        "Ora facciamo una serie di operazioni per la preparazione del dataset."
      ],
      "metadata": {
        "id": "nyPgrZ_ixYGp"
      }
    },
    {
      "cell_type": "code",
      "source": [
        "# Classi del problema\n",
        "chess_class_labels = ['none','logo']\n",
        "\n",
        "#Imposto una dimensione fissa per le immagini.\n",
        "original_image_size=(512,512)\n",
        "\n",
        "# Percorsi in cui si trovano le immagini dei set di training, validation e test\n",
        "train_path_images = '/content/train-set-YOLO/images/'\n",
        "val_path_images = '/content/validation-set-YOLO/images/'\n",
        "test_path_images = '/content/test-set-YOLO/images/'\n",
        "\n",
        "# Percorsi in cui si trovano le annotazioni dei set di training, validation e test\n",
        "train_path_annotations = '/content/train-set-YOLO//labels/'\n",
        "val_path_annotations = '/content/validation-set-YOLO/labels/'\n",
        "test_path_annotations = '/content/test-set-YOLO/labels/'\n",
        "\n",
        "# Lista dei file delle annotazioni di training\n",
        "train_txt_files = sorted(\n",
        "    [\n",
        "        os.path.join(train_path_annotations, file_name)\n",
        "        for file_name in os.listdir(train_path_annotations)\n",
        "        if file_name.endswith(\".txt\")\n",
        "    ]\n",
        ")\n",
        "\n",
        "# Lista dei file delle annotazioni di validation\n",
        "val_txt_files = sorted(\n",
        "    [\n",
        "        os.path.join(val_path_annotations, file_name)\n",
        "        for file_name in os.listdir(val_path_annotations)\n",
        "        if file_name.endswith(\".txt\")\n",
        "    ]\n",
        ")\n",
        "\n",
        "# Lista dei file delle annotazioni di test\n",
        "test_txt_files = sorted(\n",
        "    [\n",
        "        os.path.join(test_path_annotations, file_name)\n",
        "        for file_name in os.listdir(test_path_annotations)\n",
        "        if file_name.endswith(\".txt\")\n",
        "    ]\n",
        ")\n",
        "\n",
        "print('Numero dei file di training: ',len(train_txt_files))\n",
        "print('Numero dei file di validation: ',len(val_txt_files))\n",
        "print('Numero dei file di test: ',len(test_txt_files))\n"
      ],
      "metadata": {
        "colab": {
          "base_uri": "https://localhost:8080/"
        },
        "id": "jJ7pcyZlxmjU",
        "outputId": "f3350a0c-2b01-4bbd-df49-1ff8157a1a23"
      },
      "execution_count": 15,
      "outputs": [
        {
          "output_type": "stream",
          "name": "stdout",
          "text": [
            "Numero dei file di training:  40\n",
            "Numero dei file di validation:  10\n",
            "Numero dei file di test:  10\n"
          ]
        }
      ]
    },
    {
      "cell_type": "markdown",
      "source": [
        "La cella sottostante permette di caricare in memoria i percorsi assoluti delle immagini e le rispettive annotazioni per i set di training, validation e test.\n",
        "\n",
        "*   ..._image_path_list = è la lista con i percorsi assoluti delle immagini.\n",
        "*   ..._yolov8_box_list = è la lista con le dimensioni dei box per la detection.\n",
        "*   ..._class_id_list = è la lista con la classificiazione (none, logo)\n",
        "\n"
      ],
      "metadata": {
        "id": "4tLDb92r4RTP"
      }
    },
    {
      "cell_type": "code",
      "source": [
        "train_image_path_list, train_yolov8_box_list, train_image_class_id_list = load_dataset_info(train_txt_files, train_path_images)\n",
        "val_image_path_list, val_yolov8_box_list, val_image_class_id_list = load_dataset_info(val_txt_files, val_path_images)\n",
        "test_image_path_list, test_yolov8_box_list, test_image_class_id_list = load_dataset_info(test_txt_files, test_path_images)"
      ],
      "metadata": {
        "id": "5HHflNIjiAFo"
      },
      "execution_count": 16,
      "outputs": []
    },
    {
      "cell_type": "markdown",
      "source": [
        "Il formato YOLOv8 con cui sono memorizzate le bounding box dei pezzi degli scacchi riporta  x ,  y ,  w  e  h  come valori relativi (nell'intervallo  [0;1] ) rispetto alla dimensione dell'immagine a cui sono associate.\n",
        "\n",
        "La cella sottostante stampa a video i valori  (x,y,w,h)  in formato relativo della bounding box associata alla prima immagine del training set."
      ],
      "metadata": {
        "id": "e-Ya3kkv5KrI"
      }
    },
    {
      "cell_type": "code",
      "source": [
        "print(train_yolov8_box_list[0])"
      ],
      "metadata": {
        "id": "o6muDbv6g1pi",
        "colab": {
          "base_uri": "https://localhost:8080/"
        },
        "outputId": "0d3cb9c5-03e8-4d7b-9725-3b7fee807484"
      },
      "execution_count": 17,
      "outputs": [
        {
          "output_type": "stream",
          "name": "stdout",
          "text": [
            "[[0.265039, 0.4981835, 0.430566, 0.425527]]\n"
          ]
        }
      ]
    },
    {
      "cell_type": "markdown",
      "source": [
        "Ai fini dell'addestramento del modello e della visualizzazione dei risultati è conveniente convertire le *bounding box*  da valori relativi a valori assoluti nel formato **'xywh'**. Per fare ciò è sufficiente utilizzare la funzione di utilità **from_rel_xywh_to_xywh** passandogli in input, oltre alle *bounding box* nel formato YOLOv8, le dimensioni delle immagini del dataset ($512\\times512$)."
      ],
      "metadata": {
        "id": "gFgMdphqg1-p"
      }
    },
    {
      "cell_type": "code",
      "source": [
        "train_xywh_box_list=from_rel_xywh_to_xywh(train_yolov8_box_list,original_image_size)\n",
        "val_xywh_box_list=from_rel_xywh_to_xywh(val_yolov8_box_list,original_image_size)\n",
        "test_xywh_box_list=from_rel_xywh_to_xywh(test_yolov8_box_list,original_image_size)"
      ],
      "metadata": {
        "id": "KbjT05DgjYDn"
      },
      "execution_count": 18,
      "outputs": []
    },
    {
      "cell_type": "markdown",
      "source": [
        "La cella sottostante stampa a video i valori $(x,y,w,h)$ in formato assoluto della *bounding box* associata alla prima immagine del training set."
      ],
      "metadata": {
        "id": "VywvXTSLjXuK"
      }
    },
    {
      "cell_type": "code",
      "source": [
        "print(train_xywh_box_list[0])"
      ],
      "metadata": {
        "id": "UWnpuBDajX0z",
        "colab": {
          "base_uri": "https://localhost:8080/"
        },
        "outputId": "587c1abd-facd-4f1a-b386-464c0a7bdd6e"
      },
      "execution_count": 19,
      "outputs": [
        {
          "output_type": "stream",
          "name": "stdout",
          "text": [
            "[[135.699968, 255.069952, 220.449792, 217.869824]]\n"
          ]
        }
      ]
    },
    {
      "cell_type": "code",
      "source": [
        "image_count=4\n",
        "random_idx=random.randint(0,len(train_image_path_list)-image_count)\n",
        "\n",
        "plot_images_with_xywh_bounding_boxes([plt.imread(train_image_path_list[i]) for i in range(random_idx,random_idx+image_count)],\n",
        "                                     train_xywh_box_list[random_idx:random_idx+image_count],\n",
        "                                     train_image_class_id_list[random_idx:random_idx+image_count],\n",
        "                                     chess_class_labels,\n",
        "                                     image_per_row=4,\n",
        "                                     show_labels=False)"
      ],
      "metadata": {
        "id": "LuSHXqLcjv6g",
        "colab": {
          "base_uri": "https://localhost:8080/",
          "height": 390
        },
        "outputId": "6ad447a0-e6e2-483f-e2ee-df2a5eb18594"
      },
      "execution_count": 25,
      "outputs": [
        {
          "output_type": "error",
          "ename": "FileNotFoundError",
          "evalue": "ignored",
          "traceback": [
            "\u001b[0;31m---------------------------------------------------------------------------\u001b[0m",
            "\u001b[0;31mFileNotFoundError\u001b[0m                         Traceback (most recent call last)",
            "\u001b[0;32m<ipython-input-25-27e192dd57a0>\u001b[0m in \u001b[0;36m<cell line: 4>\u001b[0;34m()\u001b[0m\n\u001b[1;32m      2\u001b[0m \u001b[0mrandom_idx\u001b[0m\u001b[0;34m=\u001b[0m\u001b[0mrandom\u001b[0m\u001b[0;34m.\u001b[0m\u001b[0mrandint\u001b[0m\u001b[0;34m(\u001b[0m\u001b[0;36m0\u001b[0m\u001b[0;34m,\u001b[0m\u001b[0mlen\u001b[0m\u001b[0;34m(\u001b[0m\u001b[0mtrain_image_path_list\u001b[0m\u001b[0;34m)\u001b[0m\u001b[0;34m-\u001b[0m\u001b[0mimage_count\u001b[0m\u001b[0;34m)\u001b[0m\u001b[0;34m\u001b[0m\u001b[0;34m\u001b[0m\u001b[0m\n\u001b[1;32m      3\u001b[0m \u001b[0;34m\u001b[0m\u001b[0m\n\u001b[0;32m----> 4\u001b[0;31m plot_images_with_xywh_bounding_boxes([plt.imread(train_image_path_list[i]) for i in range(random_idx,random_idx+image_count)],\n\u001b[0m\u001b[1;32m      5\u001b[0m                                      \u001b[0mtrain_xywh_box_list\u001b[0m\u001b[0;34m[\u001b[0m\u001b[0mrandom_idx\u001b[0m\u001b[0;34m:\u001b[0m\u001b[0mrandom_idx\u001b[0m\u001b[0;34m+\u001b[0m\u001b[0mimage_count\u001b[0m\u001b[0;34m]\u001b[0m\u001b[0;34m,\u001b[0m\u001b[0;34m\u001b[0m\u001b[0;34m\u001b[0m\u001b[0m\n\u001b[1;32m      6\u001b[0m                                      \u001b[0mtrain_image_class_id_list\u001b[0m\u001b[0;34m[\u001b[0m\u001b[0mrandom_idx\u001b[0m\u001b[0;34m:\u001b[0m\u001b[0mrandom_idx\u001b[0m\u001b[0;34m+\u001b[0m\u001b[0mimage_count\u001b[0m\u001b[0;34m]\u001b[0m\u001b[0;34m,\u001b[0m\u001b[0;34m\u001b[0m\u001b[0;34m\u001b[0m\u001b[0m\n",
            "\u001b[0;32m<ipython-input-25-27e192dd57a0>\u001b[0m in \u001b[0;36m<listcomp>\u001b[0;34m(.0)\u001b[0m\n\u001b[1;32m      2\u001b[0m \u001b[0mrandom_idx\u001b[0m\u001b[0;34m=\u001b[0m\u001b[0mrandom\u001b[0m\u001b[0;34m.\u001b[0m\u001b[0mrandint\u001b[0m\u001b[0;34m(\u001b[0m\u001b[0;36m0\u001b[0m\u001b[0;34m,\u001b[0m\u001b[0mlen\u001b[0m\u001b[0;34m(\u001b[0m\u001b[0mtrain_image_path_list\u001b[0m\u001b[0;34m)\u001b[0m\u001b[0;34m-\u001b[0m\u001b[0mimage_count\u001b[0m\u001b[0;34m)\u001b[0m\u001b[0;34m\u001b[0m\u001b[0;34m\u001b[0m\u001b[0m\n\u001b[1;32m      3\u001b[0m \u001b[0;34m\u001b[0m\u001b[0m\n\u001b[0;32m----> 4\u001b[0;31m plot_images_with_xywh_bounding_boxes([plt.imread(train_image_path_list[i]) for i in range(random_idx,random_idx+image_count)],\n\u001b[0m\u001b[1;32m      5\u001b[0m                                      \u001b[0mtrain_xywh_box_list\u001b[0m\u001b[0;34m[\u001b[0m\u001b[0mrandom_idx\u001b[0m\u001b[0;34m:\u001b[0m\u001b[0mrandom_idx\u001b[0m\u001b[0;34m+\u001b[0m\u001b[0mimage_count\u001b[0m\u001b[0;34m]\u001b[0m\u001b[0;34m,\u001b[0m\u001b[0;34m\u001b[0m\u001b[0;34m\u001b[0m\u001b[0m\n\u001b[1;32m      6\u001b[0m                                      \u001b[0mtrain_image_class_id_list\u001b[0m\u001b[0;34m[\u001b[0m\u001b[0mrandom_idx\u001b[0m\u001b[0;34m:\u001b[0m\u001b[0mrandom_idx\u001b[0m\u001b[0;34m+\u001b[0m\u001b[0mimage_count\u001b[0m\u001b[0;34m]\u001b[0m\u001b[0;34m,\u001b[0m\u001b[0;34m\u001b[0m\u001b[0;34m\u001b[0m\u001b[0m\n",
            "\u001b[0;32m/usr/local/lib/python3.10/dist-packages/matplotlib/pyplot.py\u001b[0m in \u001b[0;36mimread\u001b[0;34m(fname, format)\u001b[0m\n\u001b[1;32m   2193\u001b[0m \u001b[0;34m@\u001b[0m\u001b[0m_copy_docstring_and_deprecators\u001b[0m\u001b[0;34m(\u001b[0m\u001b[0mmatplotlib\u001b[0m\u001b[0;34m.\u001b[0m\u001b[0mimage\u001b[0m\u001b[0;34m.\u001b[0m\u001b[0mimread\u001b[0m\u001b[0;34m)\u001b[0m\u001b[0;34m\u001b[0m\u001b[0;34m\u001b[0m\u001b[0m\n\u001b[1;32m   2194\u001b[0m \u001b[0;32mdef\u001b[0m \u001b[0mimread\u001b[0m\u001b[0;34m(\u001b[0m\u001b[0mfname\u001b[0m\u001b[0;34m,\u001b[0m \u001b[0mformat\u001b[0m\u001b[0;34m=\u001b[0m\u001b[0;32mNone\u001b[0m\u001b[0;34m)\u001b[0m\u001b[0;34m:\u001b[0m\u001b[0;34m\u001b[0m\u001b[0;34m\u001b[0m\u001b[0m\n\u001b[0;32m-> 2195\u001b[0;31m     \u001b[0;32mreturn\u001b[0m \u001b[0mmatplotlib\u001b[0m\u001b[0;34m.\u001b[0m\u001b[0mimage\u001b[0m\u001b[0;34m.\u001b[0m\u001b[0mimread\u001b[0m\u001b[0;34m(\u001b[0m\u001b[0mfname\u001b[0m\u001b[0;34m,\u001b[0m \u001b[0mformat\u001b[0m\u001b[0;34m)\u001b[0m\u001b[0;34m\u001b[0m\u001b[0;34m\u001b[0m\u001b[0m\n\u001b[0m\u001b[1;32m   2196\u001b[0m \u001b[0;34m\u001b[0m\u001b[0m\n\u001b[1;32m   2197\u001b[0m \u001b[0;34m\u001b[0m\u001b[0m\n",
            "\u001b[0;32m/usr/local/lib/python3.10/dist-packages/matplotlib/image.py\u001b[0m in \u001b[0;36mimread\u001b[0;34m(fname, format)\u001b[0m\n\u001b[1;32m   1561\u001b[0m             \u001b[0;34m\"``np.array(PIL.Image.open(urllib.request.urlopen(url)))``.\"\u001b[0m\u001b[0;34m\u001b[0m\u001b[0;34m\u001b[0m\u001b[0m\n\u001b[1;32m   1562\u001b[0m             )\n\u001b[0;32m-> 1563\u001b[0;31m     \u001b[0;32mwith\u001b[0m \u001b[0mimg_open\u001b[0m\u001b[0;34m(\u001b[0m\u001b[0mfname\u001b[0m\u001b[0;34m)\u001b[0m \u001b[0;32mas\u001b[0m \u001b[0mimage\u001b[0m\u001b[0;34m:\u001b[0m\u001b[0;34m\u001b[0m\u001b[0;34m\u001b[0m\u001b[0m\n\u001b[0m\u001b[1;32m   1564\u001b[0m         return (_pil_png_to_float_array(image)\n\u001b[1;32m   1565\u001b[0m                 \u001b[0;32mif\u001b[0m \u001b[0misinstance\u001b[0m\u001b[0;34m(\u001b[0m\u001b[0mimage\u001b[0m\u001b[0;34m,\u001b[0m \u001b[0mPIL\u001b[0m\u001b[0;34m.\u001b[0m\u001b[0mPngImagePlugin\u001b[0m\u001b[0;34m.\u001b[0m\u001b[0mPngImageFile\u001b[0m\u001b[0;34m)\u001b[0m \u001b[0;32melse\u001b[0m\u001b[0;34m\u001b[0m\u001b[0;34m\u001b[0m\u001b[0m\n",
            "\u001b[0;32m/usr/local/lib/python3.10/dist-packages/PIL/Image.py\u001b[0m in \u001b[0;36mopen\u001b[0;34m(fp, mode, formats)\u001b[0m\n\u001b[1;32m   3225\u001b[0m \u001b[0;34m\u001b[0m\u001b[0m\n\u001b[1;32m   3226\u001b[0m     \u001b[0;32mif\u001b[0m \u001b[0mfilename\u001b[0m\u001b[0;34m:\u001b[0m\u001b[0;34m\u001b[0m\u001b[0;34m\u001b[0m\u001b[0m\n\u001b[0;32m-> 3227\u001b[0;31m         \u001b[0mfp\u001b[0m \u001b[0;34m=\u001b[0m \u001b[0mbuiltins\u001b[0m\u001b[0;34m.\u001b[0m\u001b[0mopen\u001b[0m\u001b[0;34m(\u001b[0m\u001b[0mfilename\u001b[0m\u001b[0;34m,\u001b[0m \u001b[0;34m\"rb\"\u001b[0m\u001b[0;34m)\u001b[0m\u001b[0;34m\u001b[0m\u001b[0;34m\u001b[0m\u001b[0m\n\u001b[0m\u001b[1;32m   3228\u001b[0m         \u001b[0mexclusive_fp\u001b[0m \u001b[0;34m=\u001b[0m \u001b[0;32mTrue\u001b[0m\u001b[0;34m\u001b[0m\u001b[0;34m\u001b[0m\u001b[0m\n\u001b[1;32m   3229\u001b[0m \u001b[0;34m\u001b[0m\u001b[0m\n",
            "\u001b[0;31mFileNotFoundError\u001b[0m: [Errno 2] No such file or directory: '/content/train-set-YOLO/images/35.jpg'"
          ]
        }
      ]
    }
  ]
}